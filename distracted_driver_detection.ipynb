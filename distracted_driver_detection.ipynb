{
  "cells": [
    {
      "cell_type": "markdown",
      "metadata": {
        "id": "KX78yoeN6keP"
      },
      "source": [
        "# Distracted Driver Detection 🚗🪪"
      ]
    },
    {
      "cell_type": "markdown",
      "metadata": {
        "id": "gEP8Rb9d6wOD"
      },
      "source": [
        "This project is based on detecting whether a driver is focused while driving or doing some other task"
      ]
    },
    {
      "cell_type": "markdown",
      "metadata": {
        "id": "ZrSWNDcM66Fw"
      },
      "source": [
        "## Import Libraries and Explore data 🔍"
      ]
    },
    {
      "cell_type": "code",
      "source": [
        "#The dataset can be downloaded from the following link :- https://www.kaggle.com/competitions/state-farm-distracted-driver-detection/data\n",
        "import tensorflow as tf\n",
        "import matplotlib.pyplot as plt\n",
        "import pandas as pd\n",
        "import zipfile\n",
        "import os"
      ],
      "metadata": {
        "id": "3RxpNo_rmObo"
      },
      "execution_count": 6,
      "outputs": []
    },
    {
      "cell_type": "code",
      "source": [
        "#Unzip data\n",
        "zip_ref = zipfile.ZipFile('driver_distraction.zip')\n",
        "zip_ref.extractall()"
      ],
      "metadata": {
        "id": "udxfcr0fwwpc"
      },
      "execution_count": 7,
      "outputs": []
    },
    {
      "cell_type": "code",
      "source": [
        "#All data in in the /train directory so lets see it\n",
        "for dirpath, dirnames, filenames in os.walk('/content/train'):\n",
        "  print(f'There are {len(dirnames)} directories and {len(filenames)} images in {dirpath}')"
      ],
      "metadata": {
        "colab": {
          "base_uri": "https://localhost:8080/"
        },
        "id": "qOPphXjYyxvi",
        "outputId": "fc5ffd6f-cd90-4e2a-9332-630796cfecaa"
      },
      "execution_count": 8,
      "outputs": [
        {
          "output_type": "stream",
          "name": "stdout",
          "text": [
            "There are 10 directories and 0 images in /content/train\n",
            "There are 0 directories and 2312 images in /content/train/c5\n",
            "There are 0 directories and 2267 images in /content/train/c1\n",
            "There are 0 directories and 2346 images in /content/train/c3\n",
            "There are 0 directories and 2317 images in /content/train/c2\n",
            "There are 0 directories and 2129 images in /content/train/c9\n",
            "There are 0 directories and 2325 images in /content/train/c6\n",
            "There are 0 directories and 1911 images in /content/train/c8\n",
            "There are 0 directories and 2489 images in /content/train/c0\n",
            "There are 0 directories and 2002 images in /content/train/c7\n",
            "There are 0 directories and 2326 images in /content/train/c4\n"
          ]
        }
      ]
    },
    {
      "cell_type": "markdown",
      "source": [
        "There are about 2000 images for each class, but what do these classes mean? Here's a list of what each class actually is \n",
        "\n",
        "- **c0**: safe driving\n",
        "- **c1**: texting - right\n",
        "- **c2**: talking on the phone - right\n",
        "- **c3**: texting - left\n",
        "- **c4**: talking on the phone - left\n",
        "- **c5**: operating the radio\n",
        "- **c6**: drinking\n",
        "- **c7**: reaching behind\n",
        "- **c8**: hair and makeup\n",
        "- **c9**: talking to passenger\n",
        "\n",
        "All these can be found in the kaggle website of the dataset."
      ],
      "metadata": {
        "id": "1_N4T5mp03iw"
      }
    },
    {
      "cell_type": "markdown",
      "source": [
        "## Preprocessing data 🦾\n",
        "\n",
        "Time to preprocess the data and convert them to tensors and batches."
      ],
      "metadata": {
        "id": "X07xw7471dhM"
      }
    },
    {
      "cell_type": "code",
      "source": [
        "data_dir = '/content/train/'\n",
        "\n",
        "#Create training data\n",
        "train_data = tf.keras.preprocessing.image_dataset_from_directory(directory=data_dir,\n",
        "                                                                 seed=42,\n",
        "                                                                 batch_size=32,\n",
        "                                                                 image_size=(224, 224),\n",
        "                                                                 shuffle=True,\n",
        "                                                                 validation_split=0.2,\n",
        "                                                                 subset='training')\n",
        "\n",
        "#Create test_data\n",
        "test_data = tf.keras.preprocessing.image_dataset_from_directory(directory=data_dir,\n",
        "                                                                seed=42,\n",
        "                                                                batch_size=32,\n",
        "                                                                image_size=(224, 224),\n",
        "                                                                shuffle=False,\n",
        "                                                                validation_split=0.2,\n",
        "                                                                subset='validation')"
      ],
      "metadata": {
        "colab": {
          "base_uri": "https://localhost:8080/"
        },
        "id": "ioKqSeNB1q-I",
        "outputId": "95dc1435-1ffa-46f8-d4f5-cfdd5df46ed5"
      },
      "execution_count": 9,
      "outputs": [
        {
          "output_type": "stream",
          "name": "stdout",
          "text": [
            "Found 22424 files belonging to 10 classes.\n",
            "Using 17940 files for training.\n",
            "Found 22424 files belonging to 10 classes.\n",
            "Using 4484 files for validation.\n"
          ]
        }
      ]
    },
    {
      "cell_type": "markdown",
      "source": [
        "Perfect! We now have our data in training and testing formats in batches!"
      ],
      "metadata": {
        "id": "a2dAPBzL3CVX"
      }
    },
    {
      "cell_type": "markdown",
      "source": [
        "We can see some random exaples manually, and explore our data. Lets move on"
      ],
      "metadata": {
        "id": "nVU-WWEO9ZVr"
      }
    },
    {
      "cell_type": "markdown",
      "source": [
        "## Modelling Experiments 🧪\n",
        "\n",
        "We now have to decide which models we'll create and fine tune. Here is the list of all the experiments I'm going to run :  \n",
        "- `model0` :- A simple Convolutional Neural Network with 3 conv and pooling layers stacked on each other\n",
        "- `model1` :- A ResNet152V2 with custom input and output layers and a global average pooling layer.\n",
        "- `model2` :- A MobileNetNetV2 with custom input and output layers and a global average pooling layer.\n",
        "- `model3` :- A EfficientNetV2B3 with custom input and output layers and a global average pooling layer.\n",
        "\n",
        "All these experiments will be saved and viewed on tensorboard later on. "
      ],
      "metadata": {
        "id": "yzCcW-mFFcV9"
      }
    },
    {
      "cell_type": "markdown",
      "source": [
        "### Model 0"
      ],
      "metadata": {
        "id": "0XZLBacVFkQZ"
      }
    },
    {
      "cell_type": "code",
      "source": [
        "#Lets setup some callbacks \n",
        "model0_tensorboard = tf.keras.callbacks.TensorBoard(log_dir='/content/Experiments/model0')"
      ],
      "metadata": {
        "id": "yswOJmD_SySD"
      },
      "execution_count": 10,
      "outputs": []
    },
    {
      "cell_type": "code",
      "source": [
        "#Lets setup a function to plot loss_curves\n",
        "def plot_loss_curves(history):\n",
        "  pd.DataFrame(history.history).plot()"
      ],
      "metadata": {
        "id": "kpvZh9tAA5UL"
      },
      "execution_count": 11,
      "outputs": []
    },
    {
      "cell_type": "code",
      "source": [
        "#Create the model\n",
        "model0 = tf.keras.Sequential([\n",
        "    tf.keras.layers.Input(shape=(224, 224, 3)),\n",
        "    #tf.keras.layers.Flatten(),\n",
        "    tf.keras.layers.Conv2D(10, 3, activation='relu'),\n",
        "    tf.keras.layers.MaxPool2D(),\n",
        "    tf.keras.layers.Conv2D(10, 3, activation='relu'),\n",
        "    tf.keras.layers.MaxPool2D(),\n",
        "    tf.keras.layers.Conv2D(10, 3, activation='relu'),\n",
        "    tf.keras.layers.MaxPool2D(),\n",
        "    tf.keras.layers.Flatten(),\n",
        "    tf.keras.layers.Dense(10, activation='softmax')\n",
        "])\n",
        "\n",
        "#Compile the model\n",
        "model0.compile(loss=tf.keras.losses.SparseCategoricalCrossentropy(),\n",
        "               optimizer=tf.keras.optimizers.Adam(),\n",
        "               metrics=['accuracy'])\n",
        "\n",
        "#Fit the model\n",
        "history_simple_conv_net = model0.fit(train_data,\n",
        "                                     epochs=5,\n",
        "                                     steps_per_epoch=len(train_data),\n",
        "                                     validation_data=test_data,\n",
        "                                     validation_steps=int(len(test_data) * 0.15),\n",
        "                                     callbacks=[model0_tensorboard])"
      ],
      "metadata": {
        "colab": {
          "base_uri": "https://localhost:8080/"
        },
        "id": "79OK5fotPNCS",
        "outputId": "08299c4b-d3c0-4042-d1fe-63d6a6bd6ba3"
      },
      "execution_count": 14,
      "outputs": [
        {
          "output_type": "stream",
          "name": "stdout",
          "text": [
            "Epoch 1/5\n",
            "561/561 [==============================] - 50s 70ms/step - loss: 1.8544 - accuracy: 0.7290 - val_loss: 0.0913 - val_accuracy: 0.9762\n",
            "Epoch 2/5\n",
            "561/561 [==============================] - 43s 75ms/step - loss: 0.0832 - accuracy: 0.9751 - val_loss: 0.0108 - val_accuracy: 0.9940\n",
            "Epoch 3/5\n",
            "561/561 [==============================] - 39s 68ms/step - loss: 0.0366 - accuracy: 0.9899 - val_loss: 0.0185 - val_accuracy: 0.9940\n",
            "Epoch 4/5\n",
            "561/561 [==============================] - 41s 73ms/step - loss: 0.0461 - accuracy: 0.9862 - val_loss: 0.0290 - val_accuracy: 0.9911\n",
            "Epoch 5/5\n",
            "561/561 [==============================] - 39s 68ms/step - loss: 0.0425 - accuracy: 0.9876 - val_loss: 0.0432 - val_accuracy: 0.9881\n"
          ]
        }
      ]
    },
    {
      "cell_type": "code",
      "source": [
        "#Evaluate the model\n",
        "results_0 = model0.evaluate(test_data)\n",
        "results_0 "
      ],
      "metadata": {
        "colab": {
          "base_uri": "https://localhost:8080/"
        },
        "id": "8rWtg0TxAfvL",
        "outputId": "e36c53fb-cef5-43c8-c8aa-09578b56672d"
      },
      "execution_count": 15,
      "outputs": [
        {
          "output_type": "stream",
          "name": "stdout",
          "text": [
            "141/141 [==============================] - 9s 63ms/step - loss: 0.0765 - accuracy: 0.9795\n"
          ]
        },
        {
          "output_type": "execute_result",
          "data": {
            "text/plain": [
              "[0.07651006430387497, 0.9794825911521912]"
            ]
          },
          "metadata": {},
          "execution_count": 15
        }
      ]
    },
    {
      "cell_type": "code",
      "source": [
        "plot_loss_curves(history_simple_conv_net)"
      ],
      "metadata": {
        "colab": {
          "base_uri": "https://localhost:8080/",
          "height": 265
        },
        "id": "IVNHPvs1Ao6W",
        "outputId": "fab8c9c9-c2ca-4f05-8733-c44bbb358f25"
      },
      "execution_count": 16,
      "outputs": [
        {
          "output_type": "display_data",
          "data": {
            "text/plain": [
              "<Figure size 432x288 with 1 Axes>"
            ],
            "image/png": "[encoded data removed]"
          },
          "metadata": {
            "needs_background": "light"
          }
        }
      ]
    },
    {
      "cell_type": "markdown",
      "source": [
        "### Model 1"
      ],
      "metadata": {
        "id": "_djNCBluBHuh"
      }
    },
    {
      "cell_type": "code",
      "source": [
        "#Lets setup some callbacks\n",
        "model1_tensorboard = tf.keras.callbacks.TensorBoard('/content/Experiments/model1')"
      ],
      "metadata": {
        "id": "g3qy6jAlBJil"
      },
      "execution_count": 17,
      "outputs": []
    },
    {
      "cell_type": "code",
      "source": [
        "#Create a base_model resnet\n",
        "base_model = tf.keras.applications.ResNet152V2(include_top=False)\n",
        "base_model.trainable = False\n",
        "\n",
        "#Create inputs and outputs\n",
        "inputs = tf.keras.layers.Input(shape=(224, 224, 3))\n",
        "x = base_model(inputs)\n",
        "x = tf.keras.layers.GlobalAveragePooling2D()(x)\n",
        "outputs = tf.keras.layers.Dense(10, activation='softmax')(x)\n",
        "\n",
        "#Create model\n",
        "model1 = tf.keras.Model(inputs, outputs)"
      ],
      "metadata": {
        "colab": {
          "base_uri": "https://localhost:8080/"
        },
        "id": "0iIovm7rCJP4",
        "outputId": "681ee28c-4c66-429b-e8cc-d0a90bce16b1"
      },
      "execution_count": 18,
      "outputs": [
        {
          "output_type": "stream",
          "name": "stdout",
          "text": [
            "Downloading data from https://storage.googleapis.com/tensorflow/keras-applications/resnet/resnet152v2_weights_tf_dim_ordering_tf_kernels_notop.h5\n",
            "234545216/234545216 [==============================] - 11s 0us/step\n"
          ]
        }
      ]
    },
    {
      "cell_type": "code",
      "source": [
        "#Compile model\n",
        "model1.compile(loss=tf.keras.losses.SparseCategoricalCrossentropy(),\n",
        "               optimizer=tf.keras.optimizers.Adam(),\n",
        "               metrics=['accuracy'])\n",
        "\n",
        "#Fit model\n",
        "history_resent_model1 = model1.fit(train_data,\n",
        "                                   epochs=5,\n",
        "                                   steps_per_epoch=len(train_data),\n",
        "                                   validation_data=test_data,\n",
        "                                   validation_steps=int(len(test_data) * 0.15),\n",
        "                                   callbacks=[model1_tensorboard])"
      ],
      "metadata": {
        "colab": {
          "base_uri": "https://localhost:8080/"
        },
        "id": "T_oUPRVuCyRj",
        "outputId": "5027e372-4ebd-4816-8391-3b9d9eec6fbc"
      },
      "execution_count": 21,
      "outputs": [
        {
          "output_type": "stream",
          "name": "stdout",
          "text": [
            "Epoch 1/5\n",
            "561/561 [==============================] - 149s 250ms/step - loss: 31.6996 - accuracy: 0.3362 - val_loss: 2.2703 - val_accuracy: 0.8036\n",
            "Epoch 2/5\n",
            "561/561 [==============================] - 135s 241ms/step - loss: 25.8949 - accuracy: 0.3587 - val_loss: 8.2102 - val_accuracy: 0.5089\n",
            "Epoch 3/5\n",
            "561/561 [==============================] - 136s 241ms/step - loss: 21.2795 - accuracy: 0.3960 - val_loss: 31.4436 - val_accuracy: 0.3080\n",
            "Epoch 4/5\n",
            "561/561 [==============================] - 135s 241ms/step - loss: 22.7997 - accuracy: 0.4141 - val_loss: 3.9654 - val_accuracy: 0.7277\n",
            "Epoch 5/5\n",
            "561/561 [==============================] - 136s 241ms/step - loss: 17.6203 - accuracy: 0.4642 - val_loss: 19.5528 - val_accuracy: 0.2574\n"
          ]
        }
      ]
    },
    {
      "cell_type": "code",
      "source": [
        "#Evaluate model\n",
        "results1 = model1.evaluate(test_data)\n",
        "results1"
      ],
      "metadata": {
        "colab": {
          "base_uri": "https://localhost:8080/"
        },
        "id": "Up9hhCMeDNm5",
        "outputId": "31ec1d2e-267c-4789-c8af-e3aa9efed2c0"
      },
      "execution_count": 22,
      "outputs": [
        {
          "output_type": "stream",
          "name": "stdout",
          "text": [
            "141/141 [==============================] - 35s 245ms/step - loss: 13.4878 - accuracy: 0.5299\n"
          ]
        },
        {
          "output_type": "execute_result",
          "data": {
            "text/plain": [
              "[13.487768173217773, 0.5298840403556824]"
            ]
          },
          "metadata": {},
          "execution_count": 22
        }
      ]
    },
    {
      "cell_type": "code",
      "source": [
        "plot_loss_curves(history_resent_model1)"
      ],
      "metadata": {
        "colab": {
          "base_uri": "https://localhost:8080/",
          "height": 265
        },
        "id": "z4GVFuJMHR9J",
        "outputId": "7a75b1cb-7e79-4838-8391-03079f3ac5aa"
      },
      "execution_count": 24,
      "outputs": [
        {
          "output_type": "display_data",
          "data": {
            "text/plain": [
              "<Figure size 432x288 with 1 Axes>"
            ],
            "image/png": "[encoded data removed]"
          },
          "metadata": {
            "needs_background": "light"
          }
        }
      ]
    },
    {
      "cell_type": "markdown",
      "source": [
        "### Model 2"
      ],
      "metadata": {
        "id": "KDvzrL3uDcw8"
      }
    },
    {
      "cell_type": "code",
      "source": [
        "#Lets setup callbacks\n",
        "model2_tensorboard = tf.keras.callbacks.TensorBoard(log_dir='/content/Experiments/model2')"
      ],
      "metadata": {
        "id": "uOSO_VWYDeh_"
      },
      "execution_count": 25,
      "outputs": []
    },
    {
      "cell_type": "code",
      "source": [
        "#Create base_model mobilenet \n",
        "base_model = tf.keras.applications.MobileNetV2(include_top=False)\n",
        "base_model.trainable = False    \n",
        "\n",
        "#Create inputs and outputs\n",
        "inputs = tf.keras.layers.Input(shape=(224, 224, 3))\n",
        "x = base_model(inputs)\n",
        "x = tf.keras.layers.GlobalAveragePooling2D()(x)\n",
        "outputs = tf.keras.layers.Dense(10, activation='softmax')(x)\n",
        "\n",
        "#Create model2\n",
        "model2 = tf.keras.Model(inputs, outputs)"
      ],
      "metadata": {
        "colab": {
          "base_uri": "https://localhost:8080/"
        },
        "id": "SZ3fqKoxNQ8_",
        "outputId": "ae57cb19-cb7d-4abb-8b2e-e640987acc47"
      },
      "execution_count": 26,
      "outputs": [
        {
          "output_type": "stream",
          "name": "stderr",
          "text": [
            "WARNING:tensorflow:`input_shape` is undefined or non-square, or `rows` is not in [96, 128, 160, 192, 224]. Weights for input shape (224, 224) will be loaded as the default.\n"
          ]
        },
        {
          "output_type": "stream",
          "name": "stdout",
          "text": [
            "Downloading data from https://storage.googleapis.com/tensorflow/keras-applications/mobilenet_v2/mobilenet_v2_weights_tf_dim_ordering_tf_kernels_1.0_224_no_top.h5\n",
            "9406464/9406464 [==============================] - 0s 0us/step\n"
          ]
        }
      ]
    },
    {
      "cell_type": "code",
      "source": [
        "model2.compile(loss=tf.keras.losses.SparseCategoricalCrossentropy(),\n",
        "               optimizer=tf.keras.optimizers.Adam(),\n",
        "               metrics=['accuracy'])\n",
        "\n",
        "history_mobilenet_model2 = model2.fit(train_data,\n",
        "                                      epochs=5,\n",
        "                                      steps_per_epoch=len(train_data),\n",
        "                                      validation_data=test_data,\n",
        "                                      validation_steps=int(0.15*len(test_data)),\n",
        "                                      callbacks=[model2_tensorboard])"
      ],
      "metadata": {
        "colab": {
          "base_uri": "https://localhost:8080/"
        },
        "id": "ojWHNEdlOJkp",
        "outputId": "2a5ba2dd-5911-40c5-eb68-3855ad7eed33"
      },
      "execution_count": 27,
      "outputs": [
        {
          "output_type": "stream",
          "name": "stdout",
          "text": [
            "Epoch 1/5\n",
            "561/561 [==============================] - 47s 77ms/step - loss: 1.7583 - accuracy: 0.4279 - val_loss: 1.0881 - val_accuracy: 0.7515\n",
            "Epoch 2/5\n",
            "561/561 [==============================] - 40s 71ms/step - loss: 1.2124 - accuracy: 0.6536 - val_loss: 0.8731 - val_accuracy: 0.7827\n",
            "Epoch 3/5\n",
            "561/561 [==============================] - 41s 73ms/step - loss: 0.9723 - accuracy: 0.7372 - val_loss: 0.6740 - val_accuracy: 0.8333\n",
            "Epoch 4/5\n",
            "561/561 [==============================] - 49s 86ms/step - loss: 0.8264 - accuracy: 0.7842 - val_loss: 0.5272 - val_accuracy: 0.8750\n",
            "Epoch 5/5\n",
            "561/561 [==============================] - 44s 76ms/step - loss: 0.7305 - accuracy: 0.8107 - val_loss: 0.4429 - val_accuracy: 0.8973\n"
          ]
        }
      ]
    },
    {
      "cell_type": "code",
      "source": [
        "results_model2 = model2.evaluate(test_data)\n",
        "results_model2"
      ],
      "metadata": {
        "colab": {
          "base_uri": "https://localhost:8080/"
        },
        "id": "pNTIA5kBP1RV",
        "outputId": "cea0aa6c-1f7a-4d32-9c13-114832108d3d"
      },
      "execution_count": 28,
      "outputs": [
        {
          "output_type": "stream",
          "name": "stdout",
          "text": [
            "141/141 [==============================] - 10s 67ms/step - loss: 0.7089 - accuracy: 0.8158\n"
          ]
        },
        {
          "output_type": "execute_result",
          "data": {
            "text/plain": [
              "[0.7089287042617798, 0.8157894611358643]"
            ]
          },
          "metadata": {},
          "execution_count": 28
        }
      ]
    },
    {
      "cell_type": "code",
      "source": [
        "plot_loss_curves(history_mobilenet_model2)"
      ],
      "metadata": {
        "colab": {
          "base_uri": "https://localhost:8080/",
          "height": 266
        },
        "id": "qemDIAbSP5bb",
        "outputId": "4fcf6308-ee7f-4ebd-a7af-9572ebadd358"
      },
      "execution_count": 29,
      "outputs": [
        {
          "output_type": "display_data",
          "data": {
            "text/plain": [
              "<Figure size 432x288 with 1 Axes>"
            ],
            "image/png": "[encoded data removed]"
          },
          "metadata": {
            "needs_background": "light"
          }
        }
      ]
    },
    {
      "cell_type": "markdown",
      "source": [
        "### Model 3"
      ],
      "metadata": {
        "id": "7MThpafYQHiu"
      }
    },
    {
      "cell_type": "code",
      "source": [
        "#Lets setup callbacks for model3\n",
        "model3_tensorboard = tf.keras.callbacks.TensorBoard(log_dir='/content/Experiments/model3')"
      ],
      "metadata": {
        "id": "ZBcwf_rTQI48"
      },
      "execution_count": 30,
      "outputs": []
    },
    {
      "cell_type": "code",
      "source": [
        "#Lets setup base_model efficientnet\n",
        "base_model = tf.keras.applications.EfficientNetV2B3(include_top=False)\n",
        "base_model.trainable = False\n",
        "\n",
        "#Setup inputs and outputs\n",
        "inputs = tf.keras.layers.Input(shape=(224, 224, 3))\n",
        "x = base_model(inputs)\n",
        "x = tf.keras.layers.GlobalAveragePooling2D()(x)\n",
        "outputs = tf.keras.layers.Dense(10, activation='softmax')(x)\n",
        "\n",
        "#Setup model3\n",
        "model3 = tf.keras.Model(inputs, outputs)"
      ],
      "metadata": {
        "colab": {
          "base_uri": "https://localhost:8080/"
        },
        "id": "TQ8RCjVoRKa7",
        "outputId": "c21a77a6-9411-4583-d89b-6d50ae9665ad"
      },
      "execution_count": 31,
      "outputs": [
        {
          "output_type": "stream",
          "name": "stdout",
          "text": [
            "Downloading data from https://storage.googleapis.com/tensorflow/keras-applications/efficientnet_v2/efficientnetv2-b3_notop.h5\n",
            "52606240/52606240 [==============================] - 3s 0us/step\n"
          ]
        }
      ]
    },
    {
      "cell_type": "code",
      "source": [
        "model3.compile(loss=tf.keras.losses.SparseCategoricalCrossentropy(),\n",
        "               optimizer=tf.keras.optimizers.Adam(),\n",
        "               metrics=['accuracy'])\n",
        "\n",
        "history_efficientnet_model3 = model3.fit(train_data,\n",
        "                                         epochs=5,\n",
        "                                         steps_per_epoch=len(train_data),\n",
        "                                         validation_data=test_data,\n",
        "                                         validation_steps=len(test_data),\n",
        "                                         callbacks=[model3_tensorboard])"
      ],
      "metadata": {
        "colab": {
          "base_uri": "https://localhost:8080/"
        },
        "id": "xxJd2GY1SQZ0",
        "outputId": "c4c094d7-247b-4c85-9ed7-f804979e2647"
      },
      "execution_count": 32,
      "outputs": [
        {
          "output_type": "stream",
          "name": "stdout",
          "text": [
            "Epoch 1/5\n",
            "561/561 [==============================] - 84s 129ms/step - loss: 1.1771 - accuracy: 0.6704 - val_loss: 0.8403 - val_accuracy: 0.7770\n",
            "Epoch 2/5\n",
            "561/561 [==============================] - 67s 118ms/step - loss: 0.6426 - accuracy: 0.8426 - val_loss: 0.6414 - val_accuracy: 0.8350\n",
            "Epoch 3/5\n",
            "561/561 [==============================] - 67s 119ms/step - loss: 0.4848 - accuracy: 0.8837 - val_loss: 0.5423 - val_accuracy: 0.8570\n",
            "Epoch 4/5\n",
            "561/561 [==============================] - 74s 132ms/step - loss: 0.4113 - accuracy: 0.9008 - val_loss: 0.3592 - val_accuracy: 0.9184\n",
            "Epoch 5/5\n",
            "561/561 [==============================] - 67s 118ms/step - loss: 0.3529 - accuracy: 0.9160 - val_loss: 0.3413 - val_accuracy: 0.9184\n"
          ]
        }
      ]
    },
    {
      "cell_type": "code",
      "source": [
        "results_model3 = model3.evaluate(test_data)\n",
        "results_model3"
      ],
      "metadata": {
        "colab": {
          "base_uri": "https://localhost:8080/"
        },
        "id": "BGCmWd-OUuu-",
        "outputId": "79b14b10-a323-447e-b374-1fd6b14a2029"
      },
      "execution_count": 33,
      "outputs": [
        {
          "output_type": "stream",
          "name": "stdout",
          "text": [
            "141/141 [==============================] - 13s 95ms/step - loss: 0.3413 - accuracy: 0.9184\n"
          ]
        },
        {
          "output_type": "execute_result",
          "data": {
            "text/plain": [
              "[0.34131965041160583, 0.9183764457702637]"
            ]
          },
          "metadata": {},
          "execution_count": 33
        }
      ]
    },
    {
      "cell_type": "markdown",
      "source": [
        "## Results\n",
        "\n",
        "At the end of each experimet, lets see what accuracy they achieved \n",
        "- `model0` : 98%\n",
        "- `model1` : 53%\n",
        "- `model2` : 81%\n",
        "- `model3` : 92%\n",
        "\n",
        "Turns out the first model, just a simple CNN works the best with a high accuracy of 98%!"
      ],
      "metadata": {
        "id": "2RoSSgWvVV9V"
      }
    },
    {
      "cell_type": "markdown",
      "source": [
        "## Tensorboard Experiment tracking"
      ],
      "metadata": {
        "id": "PG0uAywIWYdX"
      }
    },
    {
      "cell_type": "code",
      "source": [
        "!tensorboard dev upload --logdir '/content/Experiments' --one_shot"
      ],
      "metadata": {
        "colab": {
          "base_uri": "https://localhost:8080/"
        },
        "id": "MZszVVUHWcsh",
        "outputId": "5a453322-f0a0-43c7-fdca-3a861a6e9758"
      },
      "execution_count": 35,
      "outputs": [
        {
          "output_type": "stream",
          "name": "stdout",
          "text": [
            "2023-02-25 02:15:25.199818: W tensorflow/compiler/xla/stream_executor/platform/default/dso_loader.cc:64] Could not load dynamic library 'libnvinfer.so.7'; dlerror: libnvinfer.so.7: cannot open shared object file: No such file or directory; LD_LIBRARY_PATH: /usr/lib64-nvidia\n",
            "2023-02-25 02:15:25.199930: W tensorflow/compiler/xla/stream_executor/platform/default/dso_loader.cc:64] Could not load dynamic library 'libnvinfer_plugin.so.7'; dlerror: libnvinfer_plugin.so.7: cannot open shared object file: No such file or directory; LD_LIBRARY_PATH: /usr/lib64-nvidia\n",
            "2023-02-25 02:15:25.199949: W tensorflow/compiler/tf2tensorrt/utils/py_utils.cc:38] TF-TRT Warning: Cannot dlopen some TensorRT libraries. If you would like to use Nvidia GPU with TensorRT, please make sure the missing libraries mentioned above are installed properly.\n",
            "\n",
            "***** TensorBoard Uploader *****\n",
            "\n",
            "This will upload your TensorBoard logs to https://tensorboard.dev/ from\n",
            "the following directory:\n",
            "\n",
            "/content/Experiments\n",
            "\n",
            "This TensorBoard will be visible to everyone. Do not upload sensitive\n",
            "data.\n",
            "\n",
            "Your use of this service is subject to Google's Terms of Service\n",
            "<https://policies.google.com/terms> and Privacy Policy\n",
            "<https://policies.google.com/privacy>, and TensorBoard.dev's Terms of Service\n",
            "<https://tensorboard.dev/policy/terms/>.\n",
            "\n",
            "This notice will not be shown again while you are logged into the uploader.\n",
            "To log out, run `tensorboard dev auth revoke`.\n",
            "\n",
            "Continue? (yes/NO) yes\n",
            "\n",
            "To sign in with the TensorBoard uploader:\n",
            "\n",
            "1. On your computer or phone, visit:\n",
            "\n",
            "   https://www.google.com/device\n",
            "\n",
            "2. Sign in with your Google account, then enter:\n",
            "\n",
            "   QKFZ-DYFB\n",
            "\n",
            "\n",
            "\n",
            "New experiment created. View your TensorBoard at: https://tensorboard.dev/experiment/3pRAQ9inRDGqoFmfMKjULg/\n",
            "\n",
            "\u001b[1m[2023-02-25T02:16:05]\u001b[0m Started scanning logdir.\n",
            "E0225 02:16:10.971716 140646343604032 uploader.py:1122] Attempted to re-upload existing blob.  Skipping.\n",
            "\u001b[1m[2023-02-25T02:16:15]\u001b[0m Total uploaded: 150 scalars, 0 tensors, 4 binary objects (3.0 MB)\n",
            "\u001b[90mTotal skipped: 1 binary objects (1.1 MB)\n",
            "\u001b[0m\u001b[1m[2023-02-25T02:16:15]\u001b[0m Done scanning logdir.\n",
            "\n",
            "\n",
            "Done. View your TensorBoard at https://tensorboard.dev/experiment/3pRAQ9inRDGqoFmfMKjULg/\n"
          ]
        }
      ]
    }
  ],
  "metadata": {
    "colab": {
      "provenance": []
    },
    "gpuClass": "standard",
    "kernelspec": {
      "display_name": "Python 3",
      "name": "python3"
    },
    "language_info": {
      "name": "python"
    },
    "accelerator": "GPU"
  },
  "nbformat": 4,
  "nbformat_minor": 0
}